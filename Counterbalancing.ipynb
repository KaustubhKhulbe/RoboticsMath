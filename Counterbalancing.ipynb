{
  "nbformat": 4,
  "nbformat_minor": 0,
  "metadata": {
    "colab": {
      "name": "Counterbalancing",
      "provenance": [],
      "collapsed_sections": []
    },
    "kernelspec": {
      "name": "python3",
      "display_name": "Python 3"
    }
  },
  "cells": [
    {
      "cell_type": "markdown",
      "metadata": {
        "id": "pXU1vLhsYrNN"
      },
      "source": [
        "#Pneumatic counterbalancing calculations and visualization\n",
        "\n",
        "This notebook is meant to help calculate spring constants for spring counterbalancing on a pneumatic. There is also visualization of pneumatic torque and how the pneumatic travels as a function of time.\n",
        "\n",
        "some notes:\n",
        "- I am assuming the COG is in line with the pivot\n",
        "- This notebook requires predetermined inputs, intuitively, to give the remaining required inputs\n",
        "- `pneumatic_len` is actually length from pivot to pneumatic end (it was badly named)\n",
        "- will add later as they come to mind"
      ]
    },
    {
      "cell_type": "markdown",
      "metadata": {
        "id": "8XW1dZmgaDoF"
      },
      "source": [
        "Import statments"
      ]
    },
    {
      "cell_type": "code",
      "metadata": {
        "id": "UyeetXK4SHug"
      },
      "source": [
        "import numpy as np\n",
        "import math\n",
        "import matplotlib.pyplot as plt"
      ],
      "execution_count": null,
      "outputs": []
    },
    {
      "cell_type": "markdown",
      "metadata": {
        "id": "KQhQoLUmaIDw"
      },
      "source": [
        "###Inputs\n",
        "***`pivot`*** - vector of pivot assuming the pivot is grounded at (0, 0)\n",
        "\n",
        "***`cog`*** - center of gravity of pivot with same assumption as above\n",
        "\n",
        "***`mass`*** - mass of pivot in kg\n",
        "\n",
        "---\n",
        "\n",
        "***`fixed_mount`*** - the point the spring is rigidly attached to\n",
        "\n",
        "***`pivot_mount_dist`*** - the distance from pivot to spring mount\n"
      ]
    },
    {
      "cell_type": "code",
      "metadata": {
        "id": "a4XFENLNSM63"
      },
      "source": [
        "#Pivot inputs\n",
        "pivot = np.array([5, 5.]) #Vector from (0,0) to (5,5)\n",
        "#Current assumption: COG is collinear with pivot but will change\n",
        "cog = np.array([2., 2.]) \n",
        "mass = 2 #in lb\n",
        "\n",
        "#Spring inputs\n",
        "fixed_mount = np.array([0., 2.]) #This is a point\n",
        "pivot_mount_dist = 2.\n",
        "const = 10"
      ],
      "execution_count": null,
      "outputs": []
    },
    {
      "cell_type": "markdown",
      "metadata": {
        "id": "mtG-cnVqauJl"
      },
      "source": [
        "Intermediate calculation to get moving_mount as a vector"
      ]
    },
    {
      "cell_type": "code",
      "metadata": {
        "id": "3p-G0od9Wi6I",
        "colab": {
          "base_uri": "https://localhost:8080/"
        },
        "outputId": "913afb5b-d6c8-4014-e9cc-5f8e1cf3a81a"
      },
      "source": [
        "unit_vec = pivot / np.linalg.norm(pivot)\n",
        "moving_mount = unit_vec * pivot_mount_dist\n",
        "print(moving_mount)"
      ],
      "execution_count": null,
      "outputs": [
        {
          "output_type": "stream",
          "text": [
            "[1.41421356 1.41421356]\n"
          ],
          "name": "stdout"
        }
      ]
    },
    {
      "cell_type": "markdown",
      "metadata": {
        "id": "IKD7_e54a8HF"
      },
      "source": [
        "###Plotting to visualize the pivot and spring setup"
      ]
    },
    {
      "cell_type": "code",
      "metadata": {
        "colab": {
          "base_uri": "https://localhost:8080/",
          "height": 329
        },
        "id": "vNl3iCp1TEpL",
        "outputId": "689d2509-14a6-4fb7-a21f-5b72b4859168"
      },
      "source": [
        "x = np.array([0, pivot[0]])\n",
        "y = np.array([0, pivot[1]])\n",
        "plt.plot(x, y, linewidth=2, c=\"blue\", label=\"Pivot\")\n",
        "\n",
        "x2 = np.array([fixed_mount[0], moving_mount[0]])\n",
        "y2 = np.array([fixed_mount[1], moving_mount[1]])\n",
        "plt.plot(x2, y2, linewidth=2, c=\"orange\", label=\"Spring\")\n",
        "plt.title(\"Visualization\", c=\"white\")\n",
        "plt.scatter(cog[0], cog[1], label=\"COG\", c=\"red\")\n",
        "\n",
        "plt.grid()\n",
        "plt.legend()\n",
        "\n",
        "plt.xlabel(\"x\", c=\"white\")\n",
        "plt.ylabel(\"y\", c=\"white\")\n",
        "plt.xticks(c=\"white\")\n",
        "plt.yticks(c=\"white\")\n",
        "\n",
        "#Orange is spring, Blue is pivot"
      ],
      "execution_count": null,
      "outputs": [
        {
          "output_type": "execute_result",
          "data": {
            "text/plain": [
              "(array([-1.,  0.,  1.,  2.,  3.,  4.,  5.,  6.]),\n",
              " <a list of 8 Text major ticklabel objects>)"
            ]
          },
          "metadata": {
            "tags": []
          },
          "execution_count": 386
        },
        {
          "output_type": "display_data",
          "data": {
            "image/png": "[encoded data removed]",
            "text/plain": [
              "<Figure size 432x288 with 1 Axes>"
            ]
          },
          "metadata": {
            "tags": [],
            "needs_background": "dark"
          }
        }
      ]
    },
    {
      "cell_type": "code",
      "metadata": {
        "id": "Pk9sx9Mpf8B0"
      },
      "source": [
        "weight = [0, -mass * 9.81] #This is needed for later\n",
        "curr_torque = np.cross((weight), (cog)) #This is just there, not necessarily used"
      ],
      "execution_count": null,
      "outputs": []
    },
    {
      "cell_type": "code",
      "metadata": {
        "id": "bM0SCC4Die9X"
      },
      "source": [
        "#Helper function to find angle between two vectors\n",
        "\n",
        "def angle(v1, v2):\n",
        "  return math.acos(np.dot(v1, v2) / (np.linalg.norm(v1) * np.linalg.norm(v2)))"
      ],
      "execution_count": null,
      "outputs": []
    },
    {
      "cell_type": "markdown",
      "metadata": {
        "id": "g9obOzAC7xMJ"
      },
      "source": [
        "###Spring constant\n",
        "$F = kx$\n",
        "\n",
        "$T = F x r$"
      ]
    },
    {
      "cell_type": "code",
      "metadata": {
        "id": "1gP7SLCKStBD",
        "colab": {
          "base_uri": "https://localhost:8080/"
        },
        "outputId": "34510d32-1ca7-4c79-e09e-5ea4803702de"
      },
      "source": [
        "0#CALCULATE SPRING CONSTANT FOR LATER\n",
        "\n",
        "distance_vec = moving_mount - fixed_mount #Vector between two spring mounts\n",
        "theta = (angle(pivot, distance_vec))\n",
        "\n",
        "F_s = curr_torque / ((np.sin(theta) * np.linalg.norm(moving_mount)))\n",
        "\n",
        "spring_const = F_s / np.linalg.norm(distance_vec)\n",
        "print(spring_const)\n"
      ],
      "execution_count": null,
      "outputs": [
        {
          "output_type": "stream",
          "text": [
            "13.873435046880067\n"
          ],
          "name": "stdout"
        }
      ]
    },
    {
      "cell_type": "markdown",
      "metadata": {
        "id": "hYE-qoRW7-06"
      },
      "source": [
        "Sanity Check"
      ]
    },
    {
      "cell_type": "code",
      "metadata": {
        "id": "RalDS9pJi6Dk",
        "colab": {
          "base_uri": "https://localhost:8080/"
        },
        "outputId": "65b01b75-d1f2-4d5d-db44-534b7035f151"
      },
      "source": [
        "#check\n",
        "\n",
        "F_s = spring_const * distance_vec\n",
        "\n",
        "first_half = np.cross(F_s, moving_mount) \n",
        "second_half = (curr_torque)\n",
        "print(\"Check is: \" + (str) (np.isclose(first_half, second_half)))"
      ],
      "execution_count": null,
      "outputs": [
        {
          "output_type": "stream",
          "text": [
            "Check is: True\n"
          ],
          "name": "stdout"
        }
      ]
    },
    {
      "cell_type": "markdown",
      "metadata": {
        "id": "y4DoUczG8Fl-"
      },
      "source": [
        "###Helper functions for loops\n",
        "\n",
        "$T_g = r x F_g$\n",
        "\n",
        "$T_s = r_s x F_s$\n",
        "\n",
        "$ = r_s x (k * dist)$\n",
        "\n",
        "\n",
        "\n",
        "\n",
        "COG in terms of new pivot:\n",
        "$PivotUnitVec * COGlength$ (***will change***)\n"
      ]
    },
    {
      "cell_type": "code",
      "metadata": {
        "id": "v0QiCas00sJ6"
      },
      "source": [
        "#More helpers\n",
        "def getPivotMountVect(piv_new): #Returns the mounting vector at a new pivot arm\n",
        "  unit = piv_new / np.linalg.norm(piv_new)\n",
        "  #print(unit * pivot_mount_dist)\n",
        "  return unit * pivot_mount_dist\n",
        "\n",
        "def getTorqueSpring(piv_new): #Returns torque of spring at a new pivot arm\n",
        "  pivMount = getPivotMountVect(piv_new)\n",
        "  dist = (fixed_mount - pivMount)\n",
        "\n",
        "  F_s_temp = spring_const * dist\n",
        "  return np.linalg.norm(np.cross(F_s_temp, pivMount))\n",
        "\n",
        "def getCurrentTorque(piv): #Returns torque of gravity at a new pivot arm\n",
        "  cog_t = (piv/np.linalg.norm(piv)) * np.linalg.norm(cog) #NEEDS TO NOT BE DEPENDANT ON PIVOT POSITION\n",
        "  weight = [0, -mass * 9.81]\n",
        "  curr_torque = np.cross((cog_t), (weight))\n",
        "  return np.linalg.norm(curr_torque)"
      ],
      "execution_count": null,
      "outputs": []
    },
    {
      "cell_type": "markdown",
      "metadata": {
        "id": "c72Plxjv8U0a"
      },
      "source": [
        "Looping to get each value from 0 to 180"
      ]
    },
    {
      "cell_type": "code",
      "metadata": {
        "id": "9MlH1HxvxGfB"
      },
      "source": [
        "x = np.linspace(0, 180, 180)\n",
        "y1 = x.copy()\n",
        "y2 = x.copy()\n",
        "\n",
        "piv_len = np.linalg.norm(pivot)\n",
        "\n",
        "for i in range(len(x)):\n",
        "  piv_new = np.array([piv_len * np.cos(np.radians(x[i])), piv_len * np.sin(np.radians(x[i]))])\n",
        "  torque_spring = getTorqueSpring(piv_new)\n",
        "  y1[i] = torque_spring\n",
        "  y2[i] = getCurrentTorque(piv_new)"
      ],
      "execution_count": null,
      "outputs": []
    },
    {
      "cell_type": "markdown",
      "metadata": {
        "id": "gwnC9bEo8YZz"
      },
      "source": [
        "#Graphing values!\n"
      ]
    },
    {
      "cell_type": "code",
      "metadata": {
        "colab": {
          "base_uri": "https://localhost:8080/",
          "height": 329
        },
        "id": "TnUWVlh02IS5",
        "outputId": "530223dc-74c6-40c3-e638-80ab4ea2fc0a"
      },
      "source": [
        "plt.title(\"Counterbalanced graph\", c=\"white\")\n",
        "plt.plot(x, y1, c=\"blue\", linewidth=3, label=\"Spring\")\n",
        "plt.plot(x, y2, c=\"orange\", linewidth=3, label=\"Gravity\", linestyle=\"dashed\")\n",
        "plt.grid()\n",
        "plt.legend()\n",
        "\n",
        "plt.xlabel(\"Angle (deg)\", c=\"white\")\n",
        "plt.ylabel(\"Torque (lbf)\", c=\"white\")\n",
        "plt.xticks(c=\"white\")\n",
        "plt.yticks(c=\"white\")"
      ],
      "execution_count": null,
      "outputs": [
        {
          "output_type": "execute_result",
          "data": {
            "text/plain": [
              "(array([-10.,   0.,  10.,  20.,  30.,  40.,  50.,  60.]),\n",
              " <a list of 8 Text major ticklabel objects>)"
            ]
          },
          "metadata": {
            "tags": []
          },
          "execution_count": 393
        },
        {
          "output_type": "display_data",
          "data": {
            "image/png": "[encoded data removed]",
            "text/plain": [
              "<Figure size 432x288 with 1 Axes>"
            ]
          },
          "metadata": {
            "tags": [],
            "needs_background": "dark"
          }
        }
      ]
    },
    {
      "cell_type": "code",
      "metadata": {
        "colab": {
          "base_uri": "https://localhost:8080/"
        },
        "id": "KEEGcinkhCFs",
        "outputId": "515f055d-baf0-43e8-9676-634b2e04bcfb"
      },
      "source": [
        "print(\"Required spring constant given the spring mounts: \" + (str) (spring_const))"
      ],
      "execution_count": null,
      "outputs": [
        {
          "output_type": "stream",
          "text": [
            "Required spring constant given the spring mounts: 13.873435046880067\n"
          ],
          "name": "stdout"
        }
      ]
    },
    {
      "cell_type": "markdown",
      "metadata": {
        "id": "CSsZyrPsENnt"
      },
      "source": [
        "Pneumatic Inputs"
      ]
    },
    {
      "cell_type": "code",
      "metadata": {
        "id": "KV1sCMXlEPRx"
      },
      "source": [
        "pneumatic_mount = np.array([2., 2.5])\n",
        "pneumatic_base = np.array([-4., 2.])\n",
        "pressure = 60 #Usually 60psi since that's the max FIRST allows\n",
        "bore = 0.5\n",
        "\n",
        "pneumatic_len = np.linalg.norm(pneumatic_mount)\n",
        "base_vector_len = np.linalg.norm(pneumatic_base)\n",
        "\n",
        "F_p_scalar = pressure * np.pi * bore ** 2 / 4 #don't need a vector for this, will become clear why later"
      ],
      "execution_count": null,
      "outputs": []
    },
    {
      "cell_type": "markdown",
      "metadata": {
        "id": "Rr5UR7pKFN2p"
      },
      "source": [
        "Quick check of Setup"
      ]
    },
    {
      "cell_type": "code",
      "metadata": {
        "colab": {
          "base_uri": "https://localhost:8080/",
          "height": 313
        },
        "id": "Ureq4vPlE3js",
        "outputId": "f5927684-311a-486a-e52d-d3cbc371795b"
      },
      "source": [
        "plt.scatter(pneumatic_mount[0], pneumatic_mount[1])\n",
        "plt.scatter(pneumatic_base[0], pneumatic_base[1])\n",
        "\n",
        "x = np.array([0, pivot[0]])\n",
        "y = np.array([0, pivot[1]])\n",
        "plt.plot(x, y, linewidth=2, c=\"blue\", label=\"Pivot\")\n",
        "\n",
        "plt.xlabel(\"x\", c=\"white\")\n",
        "plt.ylabel(\"y\", c=\"white\")\n",
        "plt.xticks(c=\"white\")\n",
        "plt.yticks(c=\"white\")"
      ],
      "execution_count": null,
      "outputs": [
        {
          "output_type": "execute_result",
          "data": {
            "text/plain": [
              "(array([-1.,  0.,  1.,  2.,  3.,  4.,  5.,  6.]),\n",
              " <a list of 8 Text major ticklabel objects>)"
            ]
          },
          "metadata": {
            "tags": []
          },
          "execution_count": 396
        },
        {
          "output_type": "display_data",
          "data": {
            "image/png": "[encoded data removed]",
            "text/plain": [
              "<Figure size 432x288 with 1 Axes>"
            ]
          },
          "metadata": {
            "tags": [],
            "needs_background": "dark"
          }
        }
      ]
    },
    {
      "cell_type": "markdown",
      "metadata": {
        "id": "bUb-TinXcZNt"
      },
      "source": [
        "Function to calculate the torque given the mount and base\n"
      ]
    },
    {
      "cell_type": "code",
      "metadata": {
        "id": "SdWyZYQQG1lL"
      },
      "source": [
        "def getPneumaticTorque(mount):\n",
        "  #This is just setup stuff for angles and lengths we will need\n",
        "  theta_1 = np.arctan2(mount[0], mount[1])\n",
        "  theta_2 = np.arctan2(pneumatic_base[0], pneumatic_base[1]) + math.pi\n",
        "  distance_between = math.sqrt( (mount[0] - pneumatic_base[0]) ** 2 + (mount[1] - pneumatic_base[1]) ** 2 )\n",
        "  theta = theta_2 - theta_1\n",
        "\n",
        "  #This is the actual calculation\n",
        "  sin_alpha = (np.sin(theta)*base_vector_len) / distance_between\n",
        "  T_p = np.abs(F_p_scalar * pneumatic_len * sin_alpha) #This is why we don't need F_p as a vector. Not doing F x r but rather ||F|| * ||r|| * sin(a)\n",
        "  return T_p"
      ],
      "execution_count": null,
      "outputs": []
    },
    {
      "cell_type": "markdown",
      "metadata": {
        "id": "dUuw3BMLcdt_"
      },
      "source": [
        "Setting up the arrays"
      ]
    },
    {
      "cell_type": "code",
      "metadata": {
        "id": "wFMg4W26FzTc"
      },
      "source": [
        "x = np.linspace(0, 180, 180)\n",
        "y1 = x.copy()\n",
        "y2 = x.copy()\n",
        "y3 = x.copy()\n",
        "\n",
        "piv_len = np.linalg.norm(pivot)\n",
        "\n",
        "for i in range(len(x)):\n",
        "  piv_new = np.array([piv_len * np.cos(np.radians(180 - x[i])), piv_len * np.sin(np.radians(180 - x[i]))]) #NOTE: This is 180 - x[i] since x[i] is angle between\n",
        "                                                                                                           #pneumatic and the horizontal, start from pivot \n",
        "  torque_spring = getTorqueSpring(piv_new)                                                                 #and going down to x-axis\n",
        "  y1[i] = torque_spring\n",
        "  y2[i] = getCurrentTorque(piv_new)\n",
        "\n",
        "  pneumatic = (piv_new / np.linalg.norm(piv_new)) * pneumatic_len\n",
        "  y3[i] = getPneumaticTorque(pneumatic)"
      ],
      "execution_count": null,
      "outputs": []
    },
    {
      "cell_type": "markdown",
      "metadata": {
        "id": "a-XEY87tcgls"
      },
      "source": [
        "#Graphing everything"
      ]
    },
    {
      "cell_type": "code",
      "metadata": {
        "colab": {
          "base_uri": "https://localhost:8080/",
          "height": 329
        },
        "id": "DTLYjvb1am6B",
        "outputId": "d5ce758e-9a85-4f8e-f413-36f104e80f74"
      },
      "source": [
        "plt.title(\"Counterbalanced graph\", c=\"white\")\n",
        "plt.plot(x, y1, c=\"blue\", linewidth=3, label=\"Spring\")\n",
        "plt.plot(x, y2, c=\"orange\", linewidth=3, label=\"Gravity\", linestyle=\"dashed\")\n",
        "plt.plot(x, y3, c=\"green\", linewidth=3, label=\"Pneumatic Torque\")\n",
        "plt.grid()\n",
        "plt.legend()\n",
        "plt.xlabel(\"Angle (deg)\", c=\"white\")\n",
        "plt.ylabel(\"Torque (lbf)\", c=\"white\")\n",
        "plt.xticks(c=\"white\")\n",
        "plt.yticks(c=\"white\")"
      ],
      "execution_count": null,
      "outputs": [
        {
          "output_type": "execute_result",
          "data": {
            "text/plain": [
              "(array([-10.,   0.,  10.,  20.,  30.,  40.,  50.,  60.]),\n",
              " <a list of 8 Text major ticklabel objects>)"
            ]
          },
          "metadata": {
            "tags": []
          },
          "execution_count": 399
        },
        {
          "output_type": "display_data",
          "data": {
            "image/png": "[encoded data removed]",
            "text/plain": [
              "<Figure size 432x288 with 1 Axes>"
            ]
          },
          "metadata": {
            "tags": [],
            "needs_background": "dark"
          }
        }
      ]
    },
    {
      "cell_type": "markdown",
      "metadata": {
        "id": "naZQY-tqZ0jv"
      },
      "source": [
        "getting the moment of intertia for later. This is a constant value since mass and pneumatic length are constants"
      ]
    },
    {
      "cell_type": "code",
      "metadata": {
        "id": "h0tcVknda9UG"
      },
      "source": [
        "\n",
        "MOI = (mass * 0.453592) * (pneumatic_len * 0.0254) ** 2 #kg*m^2 "
      ],
      "execution_count": null,
      "outputs": []
    },
    {
      "cell_type": "markdown",
      "metadata": {
        "id": "9HJT-f9FZ66z"
      },
      "source": [
        "Process to get radians travelled / unit of time\n",
        "\n",
        "$T = MOI * acceleration$\n",
        "\n",
        "can calculate the angular acceleration\n",
        "\n",
        "Integrate A(t) to get V(t), then integrate that to get S(t) where s is in radians/unit of time\n",
        "\n",
        "In this case, output will be radians/interval\n",
        "\n",
        "I am also returning velocity since I am using the approximation: $f(x_i) = y + ∆y = y'(x) * ∆x$ which means that I will need to keep adding velocity (since I'm integrating)\n",
        "\n",
        "The function below returns the change in velocity and radians which is later added to the current angle and velocity\n",
        "\n",
        "Calculus!"
      ]
    },
    {
      "cell_type": "code",
      "metadata": {
        "id": "saiL378-Jkla"
      },
      "source": [
        "def getRadianTravelled(torque, angle, velocity, interval):\n",
        "  angular_acceleration = torque / MOI\n",
        "\n",
        "  change_in_v = angular_acceleration * interval\n",
        "  v_new = velocity + change_in_v\n",
        "\n",
        "  #print(\"new = \" + (str)(change_in_v))\n",
        "\n",
        "  change_in_radians = velocity * interval\n",
        "\n",
        "  #print(\"accel: \" + (str)(angular_acceleration) + \", velocity new:  +\" + (str)(v_new) + \", radians_traveled: \" + (str)(change_in_radians))\n",
        "\n",
        "  return np.array([change_in_radians, change_in_v])\n"
      ],
      "execution_count": null,
      "outputs": []
    },
    {
      "cell_type": "markdown",
      "metadata": {
        "id": "VSSRL2eAalcE"
      },
      "source": [
        "This is just looping through until we have reached the angle.\n",
        "\n",
        "1) Get a new pivot from `curr_angle` \n",
        "\n",
        "2) using it's unit vector, get the `pneumatic`\n",
        "\n",
        "3) get the torque at that `pneumatic` using previously defined function\n",
        "\n",
        "4) get the velocity and the angle travelled from above function\n",
        "\n",
        "5) store these in an array which we will plot later\n",
        "\n",
        "6) add this to all variables to update\n"
      ]
    },
    {
      "cell_type": "code",
      "metadata": {
        "id": "A_9v5isiN8Qo"
      },
      "source": [
        "\n",
        "desired_angle = np.pi \n",
        "\n",
        "piv_len = np.linalg.norm(pivot)\n",
        "\n",
        "curr_angle = 0\n",
        "curr_v = 0\n",
        "curr_t = 0.\n",
        "\n",
        "x = []\n",
        "t = []\n",
        "\n",
        "while(curr_angle < desired_angle):\n",
        "  piv_new = np.array([piv_len * np.cos(curr_angle), piv_len * np.sin(curr_angle)]) #technically angle should actually be np.pi - curr_angle but that's the same since we're taking cosine\n",
        "\n",
        "  pneumatic = (piv_new / np.linalg.norm(piv_new)) * pneumatic_len\n",
        "\n",
        "  #print(pneumatic)\n",
        "\n",
        "  torque = getPneumaticTorque(pneumatic)\n",
        "\n",
        "\n",
        "  arr = getRadianTravelled(torque, curr_angle, curr_v, 0.0001)\n",
        "  curr_angle += arr[0]\n",
        "  curr_v += arr[1]\n",
        "\n",
        "  #print(curr_angle)\n",
        "\n",
        "  curr_t += 0.0001\n",
        "  t.append(curr_t)\n",
        "\n",
        "  x.append(curr_angle)"
      ],
      "execution_count": null,
      "outputs": []
    },
    {
      "cell_type": "markdown",
      "metadata": {
        "id": "dyX2BuP7bHeE"
      },
      "source": [
        "##Graphing the pneumatic movement as a function of radians/time"
      ]
    },
    {
      "cell_type": "code",
      "metadata": {
        "colab": {
          "base_uri": "https://localhost:8080/",
          "height": 312
        },
        "id": "zlpymtvUOrYs",
        "outputId": "84ac7531-3c3f-4489-f4a0-e0cbf54c5984"
      },
      "source": [
        "plt.plot(t, x, label=\"Radians traveled\")\n",
        "plt.plot(t, np.linspace(desired_angle, desired_angle, len(t)), linewidth=\"5\", label=\"Desired\")\n",
        "plt.grid()\n",
        "plt.legend()\n",
        "plt.title(\"Time vs. Radians Travelled\", c=\"white\")\n",
        "plt.xlabel(\"Time\", c=\"white\")\n",
        "plt.ylabel(\"Radians\", c=\"white\")\n",
        "plt.xticks(c=\"white\")\n",
        "plt.yticks(c=\"white\")\n",
        "\n",
        "time = t[len(t)-1]\n",
        "print(\"Time took to deploy: \" + (str)(np.round(time, 5)) + \" seconds\")"
      ],
      "execution_count": null,
      "outputs": [
        {
          "output_type": "stream",
          "text": [
            "Time took to deploy: 0.0473 seconds\n"
          ],
          "name": "stdout"
        },
        {
          "output_type": "display_data",
          "data": {
            "image/png": "[encoded data removed]",
            "text/plain": [
              "<Figure size 432x288 with 1 Axes>"
            ]
          },
          "metadata": {
            "tags": [],
            "needs_background": "dark"
          }
        }
      ]
    },
    {
      "cell_type": "code",
      "metadata": {
        "id": "huD0JxyhP-pF"
      },
      "source": [
        ""
      ],
      "execution_count": null,
      "outputs": []
    }
  ]
}