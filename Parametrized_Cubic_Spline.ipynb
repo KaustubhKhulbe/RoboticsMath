{
  "nbformat": 4,
  "nbformat_minor": 0,
  "metadata": {
    "colab": {
      "name": "Parametrized Cubic Spline",
      "provenance": [],
      "collapsed_sections": [],
      "authorship_tag": "ABX9TyOPwYsUkm8U+Ii8UtmqPKAp",
      "include_colab_link": true
    },
    "kernelspec": {
      "name": "python3",
      "display_name": "Python 3"
    }
  },
  "cells": [
    {
      "cell_type": "markdown",
      "metadata": {
        "id": "view-in-github",
        "colab_type": "text"
      },
      "source": [
        "<a href=\"https://colab.research.google.com/github/KaustubhKhulbe/RoboticsMath/blob/main/Parametrized_Cubic_Spline.ipynb\" target=\"_parent\"><img src=\"https://colab.research.google.com/assets/colab-badge.svg\" alt=\"Open In Colab\"/></a>"
      ]
    },
    {
      "cell_type": "code",
      "metadata": {
        "id": "jzx_0nFNcRzb"
      },
      "source": [
        "import numpy as np\n",
        "import matplotlib.pyplot as plt\n",
        "import time as tm"
      ],
      "execution_count": 192,
      "outputs": []
    },
    {
      "cell_type": "code",
      "metadata": {
        "id": "OBEG-_lkce8Z"
      },
      "source": [
        "#input = [0., 90., 150., 210., 360.]\n",
        "#output = [150., 120., 60., 120., 120.]\n",
        "\n",
        "#input = np.array([0, 2, 4, 6, 8, 10, 12, 14])\n",
        "#output = np.array([0, 9, 16, 36, 64, 123, 144, 140])\n",
        "\n",
        "#input = np.array([1, 2, 3, 4, 5, 6, 7, 8, 9, 10])\n",
        "#output = np.array([0, 6, 8, 10, 12, 14 ,15, 23, 28, 37])\n",
        "\n",
        "#input = np.array([1, 4, 7, 10, 13])\n",
        "#output = np.array([2, 8, 17,30, 34])\n",
        "\n",
        "#input = np.array([1, 3, 5, 7, 9, 11, 13])\n",
        "#output = np.array([1, 3, 6, 9, 13, 18, 27])\n",
        "\n",
        "#input = np.array([0, 2, 4, 6, 8, 10])\n",
        "#output = np.array([10, 2, 17, 28, 1, 13])\n",
        "\n",
        "input = [0, 4, 8, 13, 10, 6.5, 15, 18, 15, 12, 15, 20]\n",
        "output = [4, 4, 6, 4, 0, 3, 10, 16, 24, 20, 18, 25]\n",
        "\n",
        "N = len(input)\n",
        "n = N - 1"
      ],
      "execution_count": 193,
      "outputs": []
    },
    {
      "cell_type": "code",
      "metadata": {
        "id": "7GSYaBbdcq3N"
      },
      "source": [
        "def getSpline(time, values):\n",
        "\n",
        "  #a constant of polynomial\n",
        "  a = [None] * N\n",
        "  for i in range(0, len(time)):\n",
        "    a[i] = (values[i])\n",
        "\n",
        "  #b and d constants\n",
        "  b = [None] * (n)\n",
        "  d = [None] * (n)\n",
        "\n",
        "  h = [None] * (n)\n",
        "  for i in range(0, n): #[0, n-1]\n",
        "    h[i] = time[i+1] - time[i]\n",
        "\n",
        "  alpha = [None] * (n)\n",
        "  for i in range(1, n): #[0, n-1]\n",
        "   alpha[i] = (3/h[i]) * (a[i+1] - a[i]) - (3/h[i-1]) * (a[i] - a[i-1])\n",
        "\n",
        "  c = [None] * N\n",
        "  l = [None] * N\n",
        "  u = [None] * N\n",
        "  z = [None] * N\n",
        "\n",
        "  l[0] = 1\n",
        "  u[0] = 0\n",
        "  z[0] = 0\n",
        "\n",
        "  for i in range(1, n):\n",
        "    l[i] = 2 * (time[i+1] - time[i-1]) - h[i-1] * u[i-1]\n",
        "    u[i] = h[i] / l[i]\n",
        "    z[i] = (alpha[i] - h[i-1]*z[i-1]) / l[i]\n",
        "\n",
        "  l[n] = 1\n",
        "  z[n] = 0\n",
        "  c[n] = 0\n",
        "\n",
        "  for j in range(n-1, -1, -1):\n",
        "    c[j] = z[j] - u[j]*c[j+1]\n",
        "    b[j] = (a[j+1]-a[j])/h[j] - (h[j] * (c[j+1] + 2*c[j]))/3\n",
        "    d[j] = (c[j+1] - c[j])/(3*h[j])\n",
        "\n",
        "  return a, b, c, d\n"
      ],
      "execution_count": 194,
      "outputs": []
    },
    {
      "cell_type": "code",
      "metadata": {
        "id": "78t2pjdhdveJ"
      },
      "source": [
        "time = [None] * len(input)\n",
        "for i in range(0, len(time)):\n",
        "  time[i] = i\n",
        "\n",
        "ax, bx, cx, dx = getSpline(time, input)\n",
        "\n",
        "ay, by, cy, dy = getSpline(time, output)"
      ],
      "execution_count": 195,
      "outputs": []
    },
    {
      "cell_type": "code",
      "metadata": {
        "colab": {
          "base_uri": "https://localhost:8080/"
        },
        "id": "wKysa5C1eFEe",
        "outputId": "2c83cfbb-7f0d-4376-e9db-4166cb69228a"
      },
      "source": [
        "print(ax)\n",
        "print(bx)\n",
        "print(cx)\n",
        "print(dx)\n",
        "print()\n",
        "print(ay)\n",
        "print(by)\n",
        "print(cy)\n",
        "print(dy)\n",
        "\n",
        "def graph():\n",
        "\n",
        "  d_x = 0.01\n",
        "  batch_size = (int)((time[1] - time[0]) / d_x)\n",
        "\n",
        "  t_vals = []\n",
        "  x_vals = []\n",
        "  y_vals = []\n",
        "\n",
        "  for i in range(0, n):\n",
        "    num = time[i]\n",
        "    while num < time[i+1]:\n",
        "\n",
        "      t = num - time[i]\n",
        "      \n",
        "      num += d_x\n",
        "      x = ax[i] + bx[i] * t + cx[i] * t**2 + dx[i] * t**3\n",
        "      x_vals.append(x)\n",
        "\n",
        "      y = ay[i] + by[i] * t + cy[i] * t**2 + dy[i] * t**3\n",
        "      y_vals.append(y)\n",
        "  plt.plot(x_vals, y_vals)"
      ],
      "execution_count": 196,
      "outputs": [
        {
          "output_type": "stream",
          "text": [
            "[0, 4, 8, 13, 10, 6.5, 15, 18, 15, 12, 15, 20]\n",
            "[4.205068361432854, 3.5898632771342918, 5.43547853002998, 1.6682226027457903, -6.108368941013142, 3.265253161306773, 8.047356295786045, -0.954678344450957, -4.228642917982218, -0.13074998362017176, 4.751642852462906]\n",
            "[0.0, -0.6152050842985626, 2.4608203371942503, -6.22807626447844, -1.5485152792804922, 10.922137381600407, -6.140034247121134, -2.8620003931158684, -0.4119641804153923, 4.509857114777438, 0.3725357213056405, 0]\n",
            "[-0.2050683614328542, 1.0253418071642708, -2.89629886722423, 1.5598536617326493, 4.156884220293633, -5.687390542907181, 1.0926779513350886, 0.8166787375668254, 1.64060709839761, -1.3791071311572658, -0.12417857376854684]\n",
            "\n",
            "[4, 4, 6, 4, 0, 3, 10, 16, 24, 20, 18, 25]\n",
            "[-0.7549365259536159, 1.5098730519072319, 0.715444318324689, -4.371650325205987, -1.228843017500739, 6.287022395208944, 6.080753436664961, 8.389963858131212, 2.3593911308101907, -5.827528381371975, 2.9507223946777072]\n",
            "[0.0, 2.2648095778608477, -3.0592383114433908, -2.0278563320872856, 5.170663639792534, 2.34520177291715, -2.5514707314611336, 4.860681152927385, -10.891253880248406, 2.704334368066242, 6.07391640798344, 0]\n",
            "[0.7549365259536159, -1.7746826297680796, 0.34379399311870174, 2.3995066572932733, -0.9418206222917945, -1.6322241681260945, 2.470717294796173, -5.250645011058597, 4.531862749438216, 1.1231940133057325, -2.0246388026611464]\n"
          ],
          "name": "stdout"
        }
      ]
    },
    {
      "cell_type": "code",
      "metadata": {
        "colab": {
          "base_uri": "https://localhost:8080/",
          "height": 282
        },
        "id": "QSwG2pkTeUKS",
        "outputId": "207643c1-b0f2-4f18-fe02-2ba27d93e214"
      },
      "source": [
        "graph()\n",
        "plt.scatter(input, output,c ='green')"
      ],
      "execution_count": 197,
      "outputs": [
        {
          "output_type": "execute_result",
          "data": {
            "text/plain": [
              "<matplotlib.collections.PathCollection at 0x7efd0589d9b0>"
            ]
          },
          "metadata": {
            "tags": []
          },
          "execution_count": 197
        },
        {
          "output_type": "display_data",
          "data": {
            "image/png": "[encoded data removed]",
            "text/plain": [
              "<Figure size 432x288 with 1 Axes>"
            ]
          },
          "metadata": {
            "tags": [],
            "needs_background": "light"
          }
        }
      ]
    },
    {
      "cell_type": "code",
      "metadata": {
        "id": "oZhMMeJF1qgp"
      },
      "source": [
        ""
      ],
      "execution_count": 197,
      "outputs": []
    }
  ]
}