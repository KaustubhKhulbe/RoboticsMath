{
  "nbformat": 4,
  "nbformat_minor": 0,
  "metadata": {
    "colab": {
      "name": "Differential Drive Trajectory Optimization",
      "provenance": [],
      "collapsed_sections": [],
      "include_colab_link": true
    },
    "kernelspec": {
      "display_name": "Python 3",
      "name": "python3"
    }
  },
  "cells": [
    {
      "cell_type": "markdown",
      "metadata": {
        "id": "view-in-github",
        "colab_type": "text"
      },
      "source": [
        "<a href=\"https://colab.research.google.com/github/KaustubhKhulbe/RoboticsMath/blob/main/Differential_Drive_Trajectory_Optimization.ipynb\" target=\"_parent\"><img src=\"https://colab.research.google.com/assets/colab-badge.svg\" alt=\"Open In Colab\"/></a>"
      ]
    },
    {
      "cell_type": "markdown",
      "metadata": {
        "id": "nbIV8mRzocE-"
      },
      "source": [
        ""
      ]
    },
    {
      "cell_type": "code",
      "metadata": {
        "id": "G79Izr7V7uQM"
      },
      "source": [
        "import numpy as np\n",
        "import matplotlib.pyplot as plt"
      ],
      "execution_count": 12,
      "outputs": []
    },
    {
      "cell_type": "code",
      "metadata": {
        "id": "zWpnaYrSP7tl"
      },
      "source": [
        "try:\n",
        "  import pydrake\n",
        "  import underactuated\n",
        "except ImportError:\n",
        "  !curl -s https://raw.githubusercontent.com/RussTedrake/underactuated/master/scripts/setup/jupyter_setup.py > jupyter_setup.py\n",
        "  from jupyter_setup import setup_underactuated\n",
        "  setup_underactuated()"
      ],
      "execution_count": 13,
      "outputs": []
    },
    {
      "cell_type": "markdown",
      "metadata": {
        "id": "L063_snTBWCQ"
      },
      "source": [
        "Constants:\n",
        "\n",
        "`m` - mass of robot\n",
        "\n",
        "`I` - moment of inertia of robot\n",
        "\n",
        "`r_bot` - radius of bot (width between wheels / 2)\n",
        "\n",
        "`r_wheel` - radius of wheel\n",
        "\n",
        "`k_emf` - emf constant of motor (must take into account gear ratio)\n",
        "\n",
        "`k_magnet` - constant of magnet (must take into account gear ratio)\n",
        "\n",
        "Input vector:\n",
        "\n",
        "$ \\mathbf{u} = \\begin{bmatrix}\n",
        "V_L \\\\\n",
        "V_R\n",
        "\\end{bmatrix} $\n",
        "\n",
        "State vector:\n",
        "\n",
        "$ \\mathbf{x} = \\begin{bmatrix}\n",
        "x \\\\ \n",
        "y \\\\\n",
        "\\theta \\\\\n",
        "v \\\\\n",
        "\\omega \\\\\n",
        "\\end{bmatrix} $\n",
        "\n",
        "\n",
        "$f(x, u)$ returns the derivative of x based on the input voltages\n",
        "\n",
        "$f(x, u) = \\mathbf{\\dot{x}} = \\begin{bmatrix} \\dot{x} \\\\ \\dot{y} \\\\ \\dot{\\theta}\\\\ \\dot{v} \\\\ \\dot{\\omega} \\end{bmatrix} = \\begin{bmatrix} v*cos(\\theta) \\\\ v*sin(\\theta) \\\\ \\omega \\\\ (\\tau(V_r) + \\tau(V_l)) / (r * r_{wheel} * m) \\\\ r_{wheelbase} * (\\tau(V_r) - \\tau(V_l)) / r_{wheel} \\end{bmatrix}$"
      ]
    },
    {
      "cell_type": "code",
      "metadata": {
        "id": "csmgoWU-pVhW"
      },
      "source": [
        "from pydrake.all import eq, le, ge, MathematicalProgram, Solve, Variable\n",
        "\n",
        "m = 55.\n",
        "I = 1.\n",
        "r_bot = 0.5\n",
        "r_wheel = 0.2\n",
        "\n",
        "k_emf = 2.\n",
        "k_magnet = 2."
      ],
      "execution_count": 14,
      "outputs": []
    },
    {
      "cell_type": "markdown",
      "metadata": {
        "id": "pe0tCP5SEfNq"
      },
      "source": [
        "`model` is $f(x, u)$\n",
        "\n",
        "`getWheelVelocity` - returns the angular velocity of wheel (need to clarify which wheel it is)\n",
        "\n",
        "`getWheelTorque` - returns the motor torque of the wheel using `V` (voltage applied) and `vf` (surface velocity of wheel)"
      ]
    },
    {
      "cell_type": "code",
      "metadata": {
        "id": "jm7izghmoU1Y"
      },
      "source": [
        "def model(x, u): #state and input vector: f(x, u)\n",
        "  v = x[3]\n",
        "  left_wheel_torque = getWheelTorque(u[0], getWheelVelocity(v, x[4], False))\n",
        "  right_wheel_torque = getWheelTorque(u[1], getWheelVelocity(v, x[4], True))\n",
        "  dx = np.array([\n",
        "    v * np.cos(x[2] + 0.),\n",
        "    v * np.sin(x[2] + 0.),\n",
        "    x[4],\n",
        "    (left_wheel_torque + right_wheel_torque) / (r_wheel * m),\n",
        "    r_bot * (right_wheel_torque - left_wheel_torque) / (r_wheel * I)\n",
        "  ])\n",
        "\n",
        "  return dx\n",
        "\n",
        "def getWheelVelocity(v, w, direction):\n",
        "  if direction:\n",
        "    return (v + r_bot * w) / r_wheel\n",
        "  return (v - r_bot * w) / r_wheel\n",
        "\n",
        "def getWheelTorque(V, vf):\n",
        "  voltage_eff = V - k_emf * vf #since vf is wheel speed, k_emf needs to account for the gearing. same for k_magnet\n",
        "  return k_magnet * voltage_eff\n"
      ],
      "execution_count": 15,
      "outputs": []
    },
    {
      "cell_type": "markdown",
      "metadata": {
        "id": "aEgo8L3DE6Dw"
      },
      "source": [
        "This is just a test to make sure that the above code works. It is assuming the start state is stationary and that the voltage applied is constant.\n",
        "\n",
        "In this example, left motor is applying 12V and right motor is applying 6V which, intuitively, makes the robot travel in a circle"
      ]
    },
    {
      "cell_type": "code",
      "metadata": {
        "id": "D2TUk8tD9wHN"
      },
      "source": [
        "x = np.array([0., 0., 0., 0., 0.])\n",
        "u_const = np.array([12., 6.])\n",
        "\n",
        "output_x = []\n",
        "output_y = []\n",
        "\n",
        "time = []\n",
        "for i in range(0, 1000):\n",
        "  time.append(0.01)\n",
        "\n",
        "for i in time:\n",
        "  x = x + model(x, u_const) * 0.01\n",
        "  ans = [x[0], x[1]]\n",
        "  output_x.append(ans[0])\n",
        "  output_y.append(ans[1])\n"
      ],
      "execution_count": 16,
      "outputs": []
    },
    {
      "cell_type": "code",
      "metadata": {
        "colab": {
          "base_uri": "https://localhost:8080/",
          "height": 298
        },
        "id": "Q2ikdool_X2R",
        "outputId": "d847b1f3-18e3-4cbb-dce8-fa8224342079"
      },
      "source": [
        "plt.plot(output_x, output_y, linewidth=4, label='trajectory')\n",
        "plt.scatter(output_x[0], output_y[0], c='green', label='start', linewidth=3)\n",
        "plt.scatter(output_x[len(output_x) - 1], output_y[len(output_y) - 1], c='red', label='end', linewidth=3)\n",
        "plt.title('Test of Trajectory', c='white')\n",
        "\n",
        "plt.grid()\n",
        "plt.legend()"
      ],
      "execution_count": 17,
      "outputs": [
        {
          "output_type": "execute_result",
          "data": {
            "text/plain": [
              "<matplotlib.legend.Legend at 0x7f3200dc1a58>"
            ]
          },
          "metadata": {
            "tags": []
          },
          "execution_count": 17
        },
        {
          "output_type": "display_data",
          "data": {
            "image/png": "[encoded data removed]",
            "text/plain": [
              "<Figure size 432x288 with 1 Axes>"
            ]
          },
          "metadata": {
            "tags": [],
            "needs_background": "light"
          }
        }
      ]
    },
    {
      "cell_type": "markdown",
      "metadata": {
        "id": "Bq4v6CxwGc93"
      },
      "source": [
        "`waypoints` - list of points we want the robot to go to. These are the state variables discussed above"
      ]
    },
    {
      "cell_type": "code",
      "metadata": {
        "colab": {
          "base_uri": "https://localhost:8080/"
        },
        "id": "StcvYM4b_8-1",
        "outputId": "2e07eca7-26eb-42bb-c0a2-ab56cb897808"
      },
      "source": [
        "'''waypoints = np.array([\n",
        "    np.array([np.array([0, 0, np.pi/2, 0, 0]), 0]),\n",
        "    np.array([np.array([5, 3, np.pi, 0, 0]), 100]),\n",
        "    np.array([np.array([8, 7, np.pi, 0, 0]), 300])\n",
        "])'''\n",
        "\n",
        "waypoints = np.array([\n",
        "    np.array([np.array([0, 5, 0, 0, 0]), 0]),\n",
        "    np.array([np.array([2, 4, 0, 3, 0]), 100]),\n",
        "    np.array([np.array([6, 6, 0, 0, 0]), 200])\n",
        "])\n",
        "\n"
      ],
      "execution_count": 18,
      "outputs": [
        {
          "output_type": "stream",
          "text": [
            "/usr/local/lib/python3.6/dist-packages/ipykernel_launcher.py:8: VisibleDeprecationWarning: Creating an ndarray from ragged nested sequences (which is a list-or-tuple of lists-or-tuples-or ndarrays with different lengths or shapes) is deprecated. If you meant to do this, you must specify 'dtype=object' when creating the ndarray\n",
            "  \n",
            "/usr/local/lib/python3.6/dist-packages/ipykernel_launcher.py:9: VisibleDeprecationWarning: Creating an ndarray from ragged nested sequences (which is a list-or-tuple of lists-or-tuples-or ndarrays with different lengths or shapes) is deprecated. If you meant to do this, you must specify 'dtype=object' when creating the ndarray\n",
            "  if __name__ == '__main__':\n",
            "/usr/local/lib/python3.6/dist-packages/ipykernel_launcher.py:10: VisibleDeprecationWarning: Creating an ndarray from ragged nested sequences (which is a list-or-tuple of lists-or-tuples-or ndarrays with different lengths or shapes) is deprecated. If you meant to do this, you must specify 'dtype=object' when creating the ndarray\n",
            "  # Remove the CWD from sys.path while we load stuff.\n"
          ],
          "name": "stderr"
        }
      ]
    },
    {
      "cell_type": "markdown",
      "metadata": {
        "id": "3Vj3q1mEGllQ"
      },
      "source": [
        "`solve` is the actual function which sets everything up and solves for the optimum solution\n",
        "\n",
        "\n",
        "`N` - is the number of intervals\n",
        "\n",
        "`T` - is the time per interval (we use this since we do linear approximation)\n",
        "\n",
        "`u` - empty list in which we will put every value in\n",
        "\n",
        "`x` - same as `u` except it's for all the state variables\n"
      ]
    },
    {
      "cell_type": "code",
      "metadata": {
        "id": "n1DNkVCCRm4K"
      },
      "source": [
        "def solve():\n",
        "\n",
        "  N = waypoints[-1, 1] + 1\n",
        "  T = 0.05 #Frequency robot runs at\n",
        "  prog = MathematicalProgram()\n",
        "\n",
        "  u = np.empty((2, N-1), dtype=Variable)\n",
        "  x = np.empty((5, N), dtype=Variable)\n",
        "\n",
        "  for n in range(N-1):\n",
        "    u[:,n] = prog.NewContinuousVariables(2, 'u' + str(n))\n",
        "    x[:,n] = prog.NewContinuousVariables(5, 'x' + str(n))\n",
        "\n",
        "    prog.SetInitialGuess(u[:,n], np.zeros_like(u[:,n]))\n",
        "    prog.SetInitialGuess(x[:,n], np.zeros_like(x[:,n]))\n",
        "  x[:,N-1] = prog.NewContinuousVariables(5, 'x' + str(N))\n",
        "\n",
        "  prog.AddBoundingBoxConstraint(waypoints[0][0], waypoints[0][0], x[:,waypoints[0][1]])\n",
        "\n",
        "  for n in range(0, N-1):\n",
        "    #prog.AddQuadraticCost(u[:,n].dot(u[:,n]))  #Minimize input error\n",
        "    prog.AddConstraint(eq(x[:,n+1], x[:,n]+model(x[:,n], u[:,n])*T))\n",
        "    prog.AddBoundingBoxConstraint(-12, 12, u[:,n]) \n",
        "\n",
        "    v = x[3,n]\n",
        "    torque = np.array([getWheelTorque(u[0,n], getWheelVelocity(x[3,n], x[4,n], False)), getWheelTorque(u[1,n], getWheelVelocity(x[3,n], x[4,n], True))])\n",
        "    prog.AddQuadraticCost(torque.dot(torque))\n",
        "\n",
        "  for w in range(len(waypoints)):\n",
        "\n",
        "    w_ts = waypoints[w][1] #waypoints time stamp\n",
        "    w_at_w = waypoints[w][0] #waypoint at w\n",
        "\n",
        "    dot_expression = x[:, w_ts] - w_at_w\n",
        "\n",
        "    prog.AddQuadraticCost(100*(dot_expression.dot(dot_expression))) #minimize waypoint error\n",
        "\n",
        "  \n",
        "    \n",
        "  result = Solve(prog)\n",
        "\n",
        "  x_sol = result.GetSolution(x)\n",
        "  u_sol = result.GetSolution(u)\n",
        "\n",
        "  assert(result.is_success()), \"Optimization failed\"\n",
        "\n",
        "  return x_sol, u_sol, N\n",
        "\n",
        "  print(x_sol)\n",
        "  print(u_sol)"
      ],
      "execution_count": 19,
      "outputs": []
    },
    {
      "cell_type": "code",
      "metadata": {
        "id": "qF0qnTOBRqy8"
      },
      "source": [
        "x_sol, u_sol, N = solve()"
      ],
      "execution_count": 20,
      "outputs": []
    },
    {
      "cell_type": "markdown",
      "metadata": {
        "id": "-1oUtWFvG9uH"
      },
      "source": [
        "Here we are splitting `x_sol` into it's x and y parts (note: it has more information but for a graph, this is enough)"
      ]
    },
    {
      "cell_type": "code",
      "metadata": {
        "colab": {
          "base_uri": "https://localhost:8080/",
          "height": 282
        },
        "id": "aopOYEmqRrYf",
        "outputId": "f05fc111-0564-46bc-9b43-ad0e9496f353"
      },
      "source": [
        "x_coords = []\n",
        "y_coords = []\n",
        "\n",
        "for i in range(N):\n",
        "  x_coords.append(x_sol[0,i])\n",
        "  y_coords.append(x_sol[1,i])\n",
        "#print(x_coords)\n",
        "#print(y_coords)\n",
        "\n",
        "#print(u_sol)\n",
        "plt.plot(x_coords, y_coords)"
      ],
      "execution_count": 21,
      "outputs": [
        {
          "output_type": "execute_result",
          "data": {
            "text/plain": [
              "[<matplotlib.lines.Line2D at 0x7f3200d50780>]"
            ]
          },
          "metadata": {
            "tags": []
          },
          "execution_count": 21
        },
        {
          "output_type": "display_data",
          "data": {
            "image/png": "[encoded data removed]",
            "text/plain": [
              "<Figure size 432x288 with 1 Axes>"
            ]
          },
          "metadata": {
            "tags": [],
            "needs_background": "light"
          }
        }
      ]
    },
    {
      "cell_type": "markdown",
      "metadata": {
        "id": "0SyCxL7-HIGq"
      },
      "source": [
        "This is doing the same thing but now for `u_sols`. It graphs the voltage each motor needs to apply at each time interval"
      ]
    },
    {
      "cell_type": "code",
      "metadata": {
        "colab": {
          "base_uri": "https://localhost:8080/",
          "height": 282
        },
        "id": "NXoKmnelj3Ep",
        "outputId": "dbd206f6-70ef-4bf7-9dd8-0f45d6901bc6"
      },
      "source": [
        "left = []\n",
        "right = []\n",
        "\n",
        "for i in range(N-1):\n",
        "  left.append(u_sol[0, i])\n",
        "  right.append(u_sol[1, i])\n",
        "\n",
        "time = []\n",
        "for i in range(N-1):\n",
        "  time.append(i * 0.02)\n",
        "\n",
        "plt.plot(time, left, c='green')\n",
        "plt.plot(time, right)\n",
        "\n"
      ],
      "execution_count": 22,
      "outputs": [
        {
          "output_type": "execute_result",
          "data": {
            "text/plain": [
              "[<matplotlib.lines.Line2D at 0x7f3200ead828>]"
            ]
          },
          "metadata": {
            "tags": []
          },
          "execution_count": 22
        },
        {
          "output_type": "display_data",
          "data": {
            "image/png": "[encoded data removed]",
            "text/plain": [
              "<Figure size 432x288 with 1 Axes>"
            ]
          },
          "metadata": {
            "tags": [],
            "needs_background": "light"
          }
        }
      ]
    },
    {
      "cell_type": "code",
      "metadata": {
        "id": "pgke5PG4rB3U"
      },
      "source": [
        ""
      ],
      "execution_count": 22,
      "outputs": []
    }
  ]
}