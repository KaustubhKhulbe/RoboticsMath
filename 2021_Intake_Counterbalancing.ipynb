{
  "nbformat": 4,
  "nbformat_minor": 0,
  "metadata": {
    "colab": {
      "name": "2021 Intake Counterbalancing",
      "provenance": [],
      "collapsed_sections": [],
      "include_colab_link": true
    },
    "kernelspec": {
      "name": "python3",
      "display_name": "Python 3"
    }
  },
  "cells": [
    {
      "cell_type": "markdown",
      "metadata": {
        "id": "view-in-github",
        "colab_type": "text"
      },
      "source": [
        "<a href=\"https://colab.research.google.com/github/KaustubhKhulbe/RoboticsMath/blob/main/2021_Intake_Counterbalancing.ipynb\" target=\"_parent\"><img src=\"https://colab.research.google.com/assets/colab-badge.svg\" alt=\"Open In Colab\"/></a>"
      ]
    },
    {
      "cell_type": "markdown",
      "metadata": {
        "id": "0LdzNn8KgNnV"
      },
      "source": [
        "#2021 Intake Counterbalancing\n",
        "\n",
        "###Purpose\n",
        "This notebook is meant to provide calculations and visuals necessary to decently counter balance our 2020-2021 intake. This is not going to be perfect counter balancing, since it is a four bar and we are using the logic for a pivot, but it is going to be close enough to do the job\n",
        "\n",
        "###What this will contain\n",
        "\n",
        "- Energy Calculations to find minimum pneumatic\n",
        "- Graphing the torque of gravity, pneumatic, and spring to make sure torque of pneumatic + torque of spring > torque of gravity\n",
        "- Graph the speed of pneumatic as a function of time"
      ]
    },
    {
      "cell_type": "markdown",
      "metadata": {
        "id": "xkFJ-RdFg34c"
      },
      "source": [
        "Import statements"
      ]
    },
    {
      "cell_type": "code",
      "metadata": {
        "id": "B0D6RgIdg3aI"
      },
      "source": [
        "import numpy as np\n",
        "import math\n",
        "import matplotlib.pyplot as plt"
      ],
      "execution_count": null,
      "outputs": []
    },
    {
      "cell_type": "markdown",
      "metadata": {
        "id": "O7KiOewZhE6j"
      },
      "source": [
        "General Inputs"
      ]
    },
    {
      "cell_type": "code",
      "metadata": {
        "id": "2qxVMaBZhGy4"
      },
      "source": [
        "arm = np.array([4., 7.]) #vector, example: from (0,0) to (5,5)\n",
        "mass = 2 #lb"
      ],
      "execution_count": null,
      "outputs": []
    },
    {
      "cell_type": "markdown",
      "metadata": {
        "id": "eGLEVDnVg92t"
      },
      "source": [
        "Pneumatic Inputs"
      ]
    },
    {
      "cell_type": "code",
      "metadata": {
        "id": "YWqHQPCig8lA"
      },
      "source": [
        "bore_size = 0.75 #in\n",
        "fixed_mount = np.array([0., 3.]) #point location\n",
        "pneumatic_mount = [1., 1.75]\n",
        "pressure = 60 #psi"
      ],
      "execution_count": null,
      "outputs": []
    },
    {
      "cell_type": "markdown",
      "metadata": {
        "id": "oJQXry8rhr42"
      },
      "source": [
        "Spring Inputs"
      ]
    },
    {
      "cell_type": "code",
      "metadata": {
        "id": "sAFp4O9GhtMS"
      },
      "source": [
        "spring_const = 1\n",
        "spring_fixed_mount = np.array([0., 6.]) #point location\n",
        "spring_mount_distance = 5 #in"
      ],
      "execution_count": null,
      "outputs": []
    },
    {
      "cell_type": "markdown",
      "metadata": {
        "id": "iM-o7wz3h8h5"
      },
      "source": [
        "Gravity Inputs \n",
        "\n",
        "This is just a big array taken from some code Sam had made : https://colab.research.google.com/drive/1dHbv9q_Eq7CYLoZN8mkhxFPZak7_4m8_?usp=sharing"
      ]
    },
    {
      "cell_type": "code",
      "metadata": {
        "id": "PblRvJqlh9iy"
      },
      "source": [
        "gravity_angles = np.array([30.0, 31.0, 32.0, 33.0, 34.0, 35.0, 36.0, 37.0, 38.0, 39.0, 40.0, 41.0, 42.0, 43.0, 44.0, 45.0, 46.0, 47.0, 48.0, 49.0, 50.0, 51.0, 52.0, 53.0, 54.0, 55.0, 56.0, 57.0, 58.0, 59.0, 60.0, 61.0, 62.0, 63.0, 64.0, 65.0, 66.0, 67.0, 68.0, 69.0, 70.0, 71.0, 72.0, 73.0, 74.0, 75.0, 76.0, 77.0, 78.0, 79.0, 80.0, 81.0, 82.0, 83.0, 84.0])\n",
        "gravity_torques = np.array([16.80345445361327, 12.549612100639946, 9.123284646605955, 6.371417178126761, 4.172716242789196, 2.430308730622665, 1.0662742522428428, 0.017529427634463385, 0.7673006284076087, 1.3302819896469065, 1.7060280131920285, 1.9231461490567185, 2.0053738490227144, 1.972476344087232, 1.8409605986522737, 1.624646312283424, 1.3351249677752557, 0.9821306073955272, 0.573840550576715, 0.11712014614316306, 0.3822774764601537, 0.9195480866565571, 1.4907027393947108, 2.0924585819232147, 2.7221499215851974, 3.377656291133273, 4.057344969161585, 4.760026004569943, 5.484918290965549, 6.231625668719928, 7.000122424300823, 7.790747932000541, 8.60421056614176, 9.441601428818359, 10.30441892140304, 11.194605779265656, 12.114600945724565, 13.067409664939238, 14.056696544336335, 15.086908256193498, 16.163435294080344, 17.29282621242737, 18.483073764944354, 19.7440014897586, 21.087793549306276, 22.529733482607334, 24.08925520610555, 25.791473770392283, 27.66947676564032, 29.767866278503366, 32.148446086094985, 34.89977987392832, 38.15417710982772, 42.12006160366649, 47.149472017853796])"
      ],
      "execution_count": null,
      "outputs": []
    },
    {
      "cell_type": "markdown",
      "metadata": {
        "id": "gCuOnk4byw1r"
      },
      "source": [
        "intermediate calculations\n",
        "\n",
        "`pneumatic_len` is just the distance from pivot to pneumatic mount\n",
        "\n",
        "`F_p` is the scalar of the force applied by the pneumatic"
      ]
    },
    {
      "cell_type": "code",
      "metadata": {
        "colab": {
          "base_uri": "https://localhost:8080/"
        },
        "id": "tsBwVCoHyyH3",
        "outputId": "209878eb-99fd-49b6-d907-360959d3bc96"
      },
      "source": [
        "pneumatic_len = np.linalg.norm(pneumatic_mount)\n",
        "\n",
        "F_p = pressure * np.pi * bore_size ** 2 / 4 #lb-in\n",
        "\n",
        "arm_len = np.linalg.norm(arm)\n",
        "\n",
        "\n",
        "MOI = (mass * 0.453592) * (pneumatic_len * 0.0254) ** 2 #kg*m^2 \n",
        "\n",
        "print(F_p)\n"
      ],
      "execution_count": null,
      "outputs": [
        {
          "output_type": "stream",
          "text": [
            "26.50718801466388\n"
          ],
          "name": "stdout"
        }
      ]
    },
    {
      "cell_type": "markdown",
      "metadata": {
        "id": "ev5TXmn_8lm7"
      },
      "source": [
        "Visalize Setup"
      ]
    },
    {
      "cell_type": "code",
      "metadata": {
        "colab": {
          "base_uri": "https://localhost:8080/",
          "height": 282
        },
        "id": "DoX8prQN8ngT",
        "outputId": "14227f0e-1ba0-42de-b3e2-9e6e0e980e83"
      },
      "source": [
        "p_x = [fixed_mount[0], pneumatic_mount[0]]\n",
        "p_y = [fixed_mount[1], pneumatic_mount[1]]\n",
        "\n",
        "a_x = [0, arm[0]]\n",
        "a_y = [0, arm[1]]\n",
        "\n",
        "spring_mount = (arm / np.linalg.norm(arm)) * spring_mount_distance\n",
        "\n",
        "s_x = [spring_fixed_mount[0], spring_mount[0]]\n",
        "s_y = [spring_fixed_mount[1], spring_mount[1]]\n",
        "\n",
        "plt.plot(p_x, p_y, label=\"pneumatic\")\n",
        "plt.plot(a_x, a_y, label=\"arm\")\n",
        "plt.plot(s_x, s_y, label=\"spring\")\n",
        "\n",
        "plt.grid()\n",
        "plt.legend()"
      ],
      "execution_count": null,
      "outputs": [
        {
          "output_type": "execute_result",
          "data": {
            "text/plain": [
              "<matplotlib.legend.Legend at 0x7fbf7b9c4c18>"
            ]
          },
          "metadata": {
            "tags": []
          },
          "execution_count": 47
        },
        {
          "output_type": "display_data",
          "data": {
            "image/png": "[encoded data removed]",
            "text/plain": [
              "<Figure size 432x288 with 1 Axes>"
            ]
          },
          "metadata": {
            "tags": [],
            "needs_background": "light"
          }
        }
      ]
    },
    {
      "cell_type": "markdown",
      "metadata": {
        "id": "A0uRKlqJKE8f"
      },
      "source": [
        "This function gets a new pneumatic mount, `mount`, and using it, it finds the torque of the pneumatic.\n",
        "\n",
        "$T = rxF$ \n",
        "$rxF = ||r||*||F||*sin(\\theta)$\n",
        "\n",
        "$||r||$ and $||F||$ are straightforward (just magnitude) but $sin(\\theta)$ is more tedious\n",
        "\n",
        "Given\n",
        "- `theta` which is the angle between arm and vector from (0,0) to `fixed_mount` and ||`fixed_mount`|| is distance from (0,0) to `fixed_mount`\n",
        "- `distance` is length from `fixed_mount` to `pneumatic_mount`\n",
        "\n",
        "The $sin(\\alpha)$ is given as $\\frac{||fixed mount|| * sin(\\theta)}{distance}$\n",
        "from this we can just plug in all our variables to get `T_p`\n"
      ]
    },
    {
      "cell_type": "code",
      "metadata": {
        "id": "dYrbLB0Iy5w4"
      },
      "source": [
        "def getPneumaticTorque(mount):\n",
        "  theta_1 = np.arctan2(mount[0], mount[1])\n",
        "  theta_2 = np.arctan2(fixed_mount[0], fixed_mount[1])\n",
        "\n",
        "  theta = theta_2 - theta_1\n",
        "  \n",
        "  distance = math.sqrt( (mount[0] - fixed_mount[0]) ** 2 + (mount[1] - fixed_mount[1]) ** 2 ) \n",
        "  sin_a = (np.linalg.norm(fixed_mount) * np.sin(theta))/distance\n",
        "\n",
        "  T_p = F_p * pneumatic_len * sin_a\n",
        "  return np.linalg.norm(T_p)"
      ],
      "execution_count": null,
      "outputs": []
    },
    {
      "cell_type": "markdown",
      "metadata": {
        "id": "D9AsOh6LOJWM"
      },
      "source": [
        "This one is much simpler\n",
        "\n",
        "Given\n",
        "- `unit` which is the spring mounted on `arm_new` as a vector\n",
        "- `dist` the distance between the spring mount and the pivot\n",
        "- `F_s` is simple their cross product"
      ]
    },
    {
      "cell_type": "code",
      "metadata": {
        "id": "flJzhwDUM5NT"
      },
      "source": [
        "def getSpringTorque(arm_new):\n",
        "  unit = (arm_new / np.linalg.norm(arm_new)) * spring_mount_distance\n",
        "  dist = (spring_fixed_mount - unit)\n",
        "\n",
        "  F_s = spring_const * dist\n",
        "  return np.linalg.norm(np.cross(F_s, unit))"
      ],
      "execution_count": null,
      "outputs": []
    },
    {
      "cell_type": "markdown",
      "metadata": {
        "id": "AwEO9YX7L7XT"
      },
      "source": [
        "This iterates from `start` to `end` and gets the torque of each and stores it in an array"
      ]
    },
    {
      "cell_type": "code",
      "metadata": {
        "id": "hCkHKbWVzdH5"
      },
      "source": [
        "start = (int) (gravity_angles[0])\n",
        "end = (int) (gravity_angles[len(gravity_angles) - 1])\n",
        "\n",
        "\n",
        "x = np.linspace(start, end, end - start + 1)\n",
        "pneumatic_vals = x.copy()\n",
        "spring_vals = x.copy()\n",
        "\n",
        "for i in range(len(x)):\n",
        "  arm_new = np.array([arm_len * np.cos(np.radians(180 - x[i])), arm_len * np.sin(np.radians(180 - x[i]))])\n",
        "  pneumatic = (arm_new / np.linalg.norm(arm_new)) * pneumatic_len\n",
        "  pneumatic_vals[i] = getPneumaticTorque(pneumatic)\n",
        "  spring_vals[i] = getSpringTorque(arm_new)"
      ],
      "execution_count": null,
      "outputs": []
    },
    {
      "cell_type": "markdown",
      "metadata": {
        "id": "m1hjol48MCAI"
      },
      "source": [
        "This just graphs everything we have so far\n",
        "- pneumatic torque\n",
        "- gravitational torque\n",
        "- spring torque"
      ]
    },
    {
      "cell_type": "code",
      "metadata": {
        "colab": {
          "base_uri": "https://localhost:8080/",
          "height": 298
        },
        "id": "MqmKLmaI08-V",
        "outputId": "9c51542c-f1e2-42a0-e35a-d371410c0304"
      },
      "source": [
        "plt.title(\"Pneumatic v. Gravitational moment\", c=\"white\")\n",
        "\n",
        "plt.plot(x, pneumatic_vals, label=\"Pneumatic moment\", linewidth=3)\n",
        "plt.plot(x, gravity_torques, label=\"Gravitational moment\", linewidth=3)\n",
        "plt.plot(x, spring_vals, label=\"Spring moment\", linewidth=3)\n",
        "\n",
        "plt.grid()\n",
        "plt.legend()"
      ],
      "execution_count": null,
      "outputs": [
        {
          "output_type": "execute_result",
          "data": {
            "text/plain": [
              "<matplotlib.legend.Legend at 0x7fbf7b94da90>"
            ]
          },
          "metadata": {
            "tags": []
          },
          "execution_count": 51
        },
        {
          "output_type": "display_data",
          "data": {
            "image/png": "[encoded data removed]",
            "text/plain": [
              "<Figure size 432x288 with 1 Axes>"
            ]
          },
          "metadata": {
            "tags": [],
            "needs_background": "light"
          }
        }
      ]
    },
    {
      "cell_type": "markdown",
      "metadata": {
        "id": "uVTq1NfnPY2U"
      },
      "source": [
        "To choose the right pneumatic, this equation must be held:\n",
        "\n",
        "`pneumatic_energy` + `spring_energy` > `gravity_energy`\n",
        "\n",
        "We can calculate this since energy is simply the integral of torque, which we have"
      ]
    },
    {
      "cell_type": "markdown",
      "metadata": {
        "id": "eTxz26fx6r1j"
      },
      "source": [
        "Spring integral calculation"
      ]
    },
    {
      "cell_type": "code",
      "metadata": {
        "colab": {
          "base_uri": "https://localhost:8080/"
        },
        "id": "nzxIUSkOVsK4",
        "outputId": "adf132f4-50a9-48a2-d0c4-40ab3b5aa616"
      },
      "source": [
        "begin = start\n",
        "desired = end\n",
        "\n",
        "energy_spring = 0\n",
        "\n",
        "while begin < desired:\n",
        "  arm_new = np.array([arm_len * np.cos(np.radians(begin)), arm_len * np.sin(np.radians(180 - begin))])\n",
        "  energy_spring += getSpringTorque(arm_new) * 0.001 \n",
        "  begin += 0.001\n",
        "print(energy_spring)"
      ],
      "execution_count": null,
      "outputs": [
        {
          "output_type": "stream",
          "text": [
            "850.0319468756057\n"
          ],
          "name": "stdout"
        }
      ]
    },
    {
      "cell_type": "markdown",
      "metadata": {
        "id": "3cIeGuJA6ucx"
      },
      "source": [
        "Gravity integral calculation"
      ]
    },
    {
      "cell_type": "code",
      "metadata": {
        "colab": {
          "base_uri": "https://localhost:8080/"
        },
        "id": "LRZIC85qWuEB",
        "outputId": "6cfb98c0-45dd-40d9-8cb8-ce025fbefa38"
      },
      "source": [
        "energy_gravity = 0\n",
        "for i in gravity_torques:\n",
        "  energy_gravity += i\n",
        "print(energy_gravity)"
      ],
      "execution_count": null,
      "outputs": [
        {
          "output_type": "stream",
          "text": [
            "625.9839301873458\n"
          ],
          "name": "stdout"
        }
      ]
    },
    {
      "cell_type": "markdown",
      "metadata": {
        "id": "s2sn-LEc6xFy"
      },
      "source": [
        "pneumatic integral calculation (not needed but just there)"
      ]
    },
    {
      "cell_type": "code",
      "metadata": {
        "colab": {
          "base_uri": "https://localhost:8080/"
        },
        "id": "14Py5GswSFst",
        "outputId": "5913ddb6-3e27-4147-bf18-0cd94501f576"
      },
      "source": [
        "begin = start\n",
        "desired = end\n",
        "\n",
        "energy_p = 0\n",
        "\n",
        "while begin < desired:\n",
        "  arm_new = np.array([arm_len * np.cos(np.radians(begin)), arm_len * np.sin(np.radians(180 - begin))])\n",
        "  pneumatic = (arm_new / np.linalg.norm(arm_new)) * pneumatic_len\n",
        "  energy_p += getPneumaticTorque(arm_new) * 0.001 \n",
        "  begin += 0.001\n",
        "\n",
        "print(energy_p)"
      ],
      "execution_count": null,
      "outputs": [
        {
          "output_type": "stream",
          "text": [
            "747.7968437024577\n"
          ],
          "name": "stdout"
        }
      ]
    },
    {
      "cell_type": "markdown",
      "metadata": {
        "id": "VQ7W6kW4bjDH"
      },
      "source": [
        "QUICK NOTE: This outputs a bore and a stroke but you only need one. Let's say you have a bore size, then you input it at the top and roll with that. But let's say we have stroke length. we input that into `stroke` and use the bore size output"
      ]
    },
    {
      "cell_type": "code",
      "metadata": {
        "colab": {
          "base_uri": "https://localhost:8080/"
        },
        "id": "sdd4hKG5UttV",
        "outputId": "d52fe7a2-cd4a-4bb4-9e69-6cb1f7e48338"
      },
      "source": [
        "net_energy_needed = np.abs(energy_gravity - energy_spring)\n",
        "\n",
        "net_energy_needed /= 2 #This is because we plan on having two pneumatic so each would do only half the work\n",
        "\n",
        "print(net_energy_needed)\n",
        "print(F_p)\n",
        "\n",
        "stroke = 6\n",
        "\n",
        "stroke_required = net_energy_needed * 1.75 / F_p\n",
        "\n",
        "F_required = net_energy_needed * 1.75 / stroke\n",
        "print(F_p)\n",
        "bore = math.sqrt(4 * F_required / (60 * np.pi))\n",
        "\n",
        "\n",
        "print(\"STROKE REQUIRED: \" + (str)(stroke_required))\n",
        "print(\"BORE REQUIRED: \" + (str)(bore))"
      ],
      "execution_count": null,
      "outputs": [
        {
          "output_type": "stream",
          "text": [
            "112.02400834412998\n",
            "26.50718801466388\n",
            "26.50718801466388\n",
            "STROKE REQUIRED: 7.395805790254941\n",
            "BORE REQUIRED: 0.8326804866432267\n"
          ],
          "name": "stdout"
        }
      ]
    },
    {
      "cell_type": "code",
      "metadata": {
        "id": "a7Zq2iuraHie"
      },
      "source": [
        "start = (int) (gravity_angles[0])\n",
        "end = (int) (gravity_angles[len(gravity_angles) - 1])\n",
        "\n",
        "x = np.linspace(start, end, end - start + 1)\n",
        "pneumatic_vals = x.copy()\n",
        "net = x.copy()\n",
        "\n",
        "for i in range(len(x)):\n",
        "  arm_new = np.array([arm_len * np.cos(np.radians(180 - x[i])), arm_len * np.sin(np.radians(180 - x[i]))])\n",
        "  pneumatic = (arm_new / np.linalg.norm(arm_new)) * pneumatic_len\n",
        "  pneumatic_vals[i] = getPneumaticTorque(pneumatic)\n",
        "  #print((str)(getSpringTorque(arm_new)) + \", \" + (str)(gravity_torques[i]))\n",
        "  net[i] = np.abs(gravity_torques[i] - getSpringTorque(arm_new))"
      ],
      "execution_count": null,
      "outputs": []
    },
    {
      "cell_type": "code",
      "metadata": {
        "colab": {
          "base_uri": "https://localhost:8080/",
          "height": 298
        },
        "id": "PWLtuRpw3zz7",
        "outputId": "c1d916c6-ae96-417c-a308-4a9c70bf807b"
      },
      "source": [
        "plt.title(\"Pneumatic v. Gravitational moment\", c=\"white\")\n",
        "\n",
        "plt.plot(x, pneumatic_vals, label=\"Pneumatic moment\", linewidth=3)\n",
        "plt.plot(x, net, label=\"Net resisting moment\", linewidth=3)\n",
        "\n",
        "plt.grid()\n",
        "plt.legend()"
      ],
      "execution_count": null,
      "outputs": [
        {
          "output_type": "execute_result",
          "data": {
            "text/plain": [
              "<matplotlib.legend.Legend at 0x7fbf7b8c8780>"
            ]
          },
          "metadata": {
            "tags": []
          },
          "execution_count": 57
        },
        {
          "output_type": "display_data",
          "data": {
            "image/png": "[encoded data removed]",
            "text/plain": [
              "<Figure size 432x288 with 1 Axes>"
            ]
          },
          "metadata": {
            "tags": [],
            "needs_background": "light"
          }
        }
      ]
    },
    {
      "cell_type": "markdown",
      "metadata": {
        "id": "fv_x0T_K8R47"
      },
      "source": [
        "Process to get radians travelled / unit of time\n",
        "\n",
        "$T = MOI * acceleration$\n",
        "\n",
        "can calculate the angular acceleration\n",
        "\n",
        "Integrate A(t) to get V(t), then integrate that to get S(t) where s is in radians/unit of time\n",
        "\n",
        "In this case, output will be radians/interval\n",
        "\n",
        "I am also returning velocity since I am using the approximation: $f(x_i) = y + ∆y = y'(x) * ∆x$ which means that I will need to keep adding velocity (since I'm integrating)\n",
        "\n",
        "The function below returns the change in velocity and radians which is later added to the current angle and velocity\n",
        "\n",
        "Calculus!"
      ]
    },
    {
      "cell_type": "code",
      "metadata": {
        "id": "5bWja1t64WHM"
      },
      "source": [
        "def getRadianTravelled(torque, angle, velocity, interval):\n",
        "  angular_acceleration = torque / MOI\n",
        "\n",
        "  change_in_v = angular_acceleration * interval\n",
        "  v_new = velocity + change_in_v\n",
        "\n",
        "  change_in_radians = velocity * interval\n",
        "\n",
        "  return np.array([change_in_radians, change_in_v])"
      ],
      "execution_count": null,
      "outputs": []
    },
    {
      "cell_type": "markdown",
      "metadata": {
        "id": "KgdbXMax8PU3"
      },
      "source": [
        "This is just looping through until we have reached the angle.\n",
        "\n",
        "1) Get a new pivot from `curr_angle` \n",
        "\n",
        "2) using it's unit vector, get the `pneumatic`\n",
        "\n",
        "3) get the torque at that `pneumatic` using previously defined function\n",
        "\n",
        "4) get the velocity and the angle travelled from above function\n",
        "\n",
        "5) store these in an array which we will plot later\n",
        "\n",
        "6) add this to all variables to update\n"
      ]
    },
    {
      "cell_type": "code",
      "metadata": {
        "id": "SGpcCp0a7Heo"
      },
      "source": [
        "\n",
        "desired_angle = np.radians(end)\n",
        "\n",
        "curr_angle = np.radians(start)\n",
        "curr_v = 0.\n",
        "curr_t = 0.\n",
        "\n",
        "y = []\n",
        "t = []\n",
        "\n",
        "while(curr_angle < desired_angle):\n",
        "  arm_new = np.array([arm_len * np.cos(np.pi - curr_angle), arm_len * np.sin(np.pi - curr_angle)]) \n",
        "\n",
        "  pneumatic = (arm_new / np.linalg.norm(arm_len)) * arm_len\n",
        "\n",
        "  torque = getPneumaticTorque(pneumatic)\n",
        "\n",
        "\n",
        "  arr = getRadianTravelled(torque, curr_angle, curr_v, 0.0001)\n",
        "  curr_angle += arr[0]\n",
        "  curr_v += arr[1]\n",
        "\n",
        "  curr_t += 0.0001\n",
        "  t.append(curr_t)\n",
        "\n",
        "  y.append(curr_angle)"
      ],
      "execution_count": null,
      "outputs": []
    },
    {
      "cell_type": "code",
      "metadata": {
        "colab": {
          "base_uri": "https://localhost:8080/",
          "height": 298
        },
        "id": "d5GBGzm07YF0",
        "outputId": "0f440460-7ffa-4a9e-eb35-6df2068ac99c"
      },
      "source": [
        "plt.plot(t, y, label=\"radians travelled\", linewidth=3)\n",
        "plt.title(\"Radians travelled vs. Time taken\")\n",
        "plt.grid()\n",
        "plt.legend()"
      ],
      "execution_count": null,
      "outputs": [
        {
          "output_type": "execute_result",
          "data": {
            "text/plain": [
              "<matplotlib.legend.Legend at 0x7fbf7b87a898>"
            ]
          },
          "metadata": {
            "tags": []
          },
          "execution_count": 60
        },
        {
          "output_type": "display_data",
          "data": {
            "image/png": "[encoded data removed]",
            "text/plain": [
              "<Figure size 432x288 with 1 Axes>"
            ]
          },
          "metadata": {
            "tags": [],
            "needs_background": "light"
          }
        }
      ]
    }
  ]
}